{
 "cells": [
  {
   "cell_type": "code",
   "execution_count": 1,
   "metadata": {},
   "outputs": [],
   "source": [
    "import random\n",
    "import matplotlib.pyplot as plt\n",
    "import matplotlib.patches as mpatches\n",
    "\n",
    "import time\n",
    "import cv2\n",
    "import selective_search as ss"
   ]
  },
  {
   "cell_type": "code",
   "execution_count": 2,
   "metadata": {},
   "outputs": [],
   "source": [
    "test_image=cv2.imread(\"test.jpg\")"
   ]
  },
  {
   "cell_type": "code",
   "execution_count": null,
   "metadata": {},
   "outputs": [],
   "source": [
    "x=input(\" Enter 1 for fast Selective serach, Enter 2 for Quality selective search \\n Enter your choice: \")\n",
    "if(x==1):\n",
    "        ss.switchToSelectiveSearchFast()\n",
    "if(x==2):\n",
    "        ss.switchToSelectiveSearchQuality()\n"
   ]
  },
  {
   "cell_type": "code",
   "execution_count": null,
   "metadata": {},
   "outputs": [],
   "source": [
    "boxes = ss.selective_search(test_image)\n",
    "# Filter box proposals\n",
    "boxes_filter = ss.box_filter(boxes, min_size=20, topN=80)\n",
    "\n",
    "fig, ax = plt.subplots(figsize=(6, 6))\n",
    "ax.imshow(test_image)\n",
    "for x1, y1, x2, y2 in boxes_filter:\n",
    "    bbox = mpatches.Rectangle(\n",
    "        (x1, y1), (x2-x1), (y2-y1), fill=False, edgecolor='red', linewidth=1)\n",
    "    ax.add_patch(bbox)\n",
    "\n",
    "plt.axis('off')\n",
    "plt.show()"
   ]
  },
  {
   "cell_type": "code",
   "execution_count": null,
   "metadata": {},
   "outputs": [],
   "source": []
  },
  {
   "cell_type": "code",
   "execution_count": null,
   "metadata": {},
   "outputs": [],
   "source": []
  }
 ],
 "metadata": {
  "kernelspec": {
   "display_name": "Python 3",
   "language": "python",
   "name": "python3"
  },
  "language_info": {
   "codemirror_mode": {
    "name": "ipython",
    "version": 3
   },
   "file_extension": ".py",
   "mimetype": "text/x-python",
   "name": "python",
   "nbconvert_exporter": "python",
   "pygments_lexer": "ipython3",
   "version": "3.7.3"
  }
 },
 "nbformat": 4,
 "nbformat_minor": 2
}
